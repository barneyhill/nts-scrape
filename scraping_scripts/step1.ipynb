{
 "cells": [
  {
   "cell_type": "code",
   "execution_count": 1,
   "metadata": {},
   "outputs": [
    {
     "name": "stderr",
     "output_type": "stream",
     "text": [
      "63471it [12:01, 88.01it/s] \n"
     ]
    }
   ],
   "source": [
    "import requests\n",
    "import json\n",
    "from tqdm import tqdm\n",
    "\n",
    "def get_mixcloud_keys():\n",
    "    offset = 0\n",
    "    limit = 100\n",
    "    pbar = tqdm()\n",
    "\n",
    "    with open('data/keys.txt', 'w') as f:\n",
    "        while True:\n",
    "            url = f\"https://api.mixcloud.com/NTSRadio/cloudcasts/?offset={offset}&limit={limit}\"\n",
    "            response = requests.get(url)\n",
    "            response_json = json.loads(response.text)\n",
    "\n",
    "            if \"data\" in response_json:\n",
    "                new_keys = [item[\"key\"] for item in response_json[\"data\"] if \"key\" in item]\n",
    "                if not new_keys:  # No more data to fetch\n",
    "                    break\n",
    "\n",
    "                # Write keys to file and update progress bar\n",
    "                for key in new_keys:\n",
    "                    f.write(key + '\\n')\n",
    "                    pbar.update()\n",
    "\n",
    "                offset += limit\n",
    "            else:\n",
    "                break\n",
    "\n",
    "    pbar.close()\n",
    "\n",
    "# Usage\n",
    "get_mixcloud_keys()"
   ]
  },
  {
   "cell_type": "code",
   "execution_count": 11,
   "metadata": {},
   "outputs": [
    {
     "name": "stdout",
     "output_type": "stream",
     "text": [
      "100\n"
     ]
    }
   ],
   "source": [
    "print(len(keys))"
   ]
  }
 ],
 "metadata": {
  "kernelspec": {
   "display_name": "nts",
   "language": "python",
   "name": "python3"
  },
  "language_info": {
   "codemirror_mode": {
    "name": "ipython",
    "version": 3
   },
   "file_extension": ".py",
   "mimetype": "text/x-python",
   "name": "python",
   "nbconvert_exporter": "python",
   "pygments_lexer": "ipython3",
   "version": "3.11.4"
  },
  "orig_nbformat": 4
 },
 "nbformat": 4,
 "nbformat_minor": 2
}
