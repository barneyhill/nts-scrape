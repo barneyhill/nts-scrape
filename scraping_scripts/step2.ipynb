{
 "cells": [
  {
   "cell_type": "code",
   "execution_count": 4,
   "metadata": {},
   "outputs": [
    {
     "name": "stderr",
     "output_type": "stream",
     "text": [
      "100%|██████████| 63471/63471 [10:28<00:00, 101.03it/s]  \n"
     ]
    }
   ],
   "source": [
    "import requests\n",
    "import json\n",
    "import re\n",
    "import tqdm\n",
    "\n",
    "def get_show_links(key):\n",
    "    url = f\"https://api.mixcloud.com{key}\"\n",
    "    try:\n",
    "        response = requests.get(url)\n",
    "        response_json = json.loads(response.text)\n",
    "    except:\n",
    "        return None\n",
    "    link = None\n",
    "\n",
    "    if \"description\" in response_json:\n",
    "        match = re.search(r'https://www.nts.live/shows/[^ ]+', response_json[\"description\"], re.IGNORECASE)\n",
    "        if match:\n",
    "            link = match.group(0)\n",
    "\n",
    "    return link\n",
    "\n",
    "def process_keys(keys, processed_keys):\n",
    "    with open('data/links.txt', 'a') as f_links, open('data/processed_keys.txt', 'a') as f_processed:\n",
    "        for key in tqdm.tqdm(keys):\n",
    "            if key in processed_keys:  # Skip keys that have already been processed\n",
    "                continue\n",
    "            \n",
    "            link = get_show_links(key)\n",
    "            if link is not None:\n",
    "                f_links.write(link + '\\n')\n",
    "\n",
    "            f_processed.write(key + '\\n')  # Write the processed key to the file\n",
    "\n",
    "# Usage\n",
    "with open('data/keys.txt', 'r') as f:\n",
    "    keys = [line.strip() for line in f]\n",
    "\n",
    "try:\n",
    "    with open('data/processed_keys.txt', 'r') as f:\n",
    "        processed_keys = [line.strip() for line in f]\n",
    "except FileNotFoundError:\n",
    "    processed_keys = []\n",
    "\n",
    "process_keys(keys, processed_keys)"
   ]
  }
 ],
 "metadata": {
  "kernelspec": {
   "display_name": "nts",
   "language": "python",
   "name": "python3"
  },
  "language_info": {
   "codemirror_mode": {
    "name": "ipython",
    "version": 3
   },
   "file_extension": ".py",
   "mimetype": "text/x-python",
   "name": "python",
   "nbconvert_exporter": "python",
   "pygments_lexer": "ipython3",
   "version": "3.11.4"
  },
  "orig_nbformat": 4
 },
 "nbformat": 4,
 "nbformat_minor": 2
}
