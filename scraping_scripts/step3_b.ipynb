{
 "cells": [
  {
   "cell_type": "markdown",
   "metadata": {},
   "source": [
    "## Alternative version with direct json scraping."
   ]
  },
  {
   "cell_type": "code",
   "execution_count": 1,
   "metadata": {},
   "outputs": [
    {
     "name": "stderr",
     "output_type": "stream",
     "text": [
      " 83%|████████▎ | 24049/28919 [1:35:59<16:38,  4.88it/s]  "
     ]
    },
    {
     "name": "stdout",
     "output_type": "stream",
     "text": [
      "Error processing URL https://www.nts.live/shows/aldous-rh/episodes/aldous-rh-8th-february-2020: ('Connection aborted.', ConnectionResetError(54, 'Connection reset by peer'))\n"
     ]
    },
    {
     "name": "stderr",
     "output_type": "stream",
     "text": [
      "100%|██████████| 28919/28919 [1:56:25<00:00,  4.14it/s]\n"
     ]
    }
   ],
   "source": [
    "import requests\n",
    "from bs4 import BeautifulSoup\n",
    "import re\n",
    "import urllib.parse\n",
    "import tqdm\n",
    "import json\n",
    "import os\n",
    "\n",
    "def get_html(url: str):\n",
    "    # Returns bs4.BeautifulSoup object from url using Requests\n",
    "    req = requests.get(url)\n",
    "    soup = BeautifulSoup(req.content, 'html.parser')\n",
    "    return soup\n",
    "\n",
    "def get_json(soup):\n",
    "    # Find script tag with the ID 'react-state'\n",
    "    script_tag = soup.find('script', id='react-state')\n",
    "    \n",
    "    if not script_tag:\n",
    "        return None\n",
    "\n",
    "    # Get the JSON text from the script tag\n",
    "    json_text = script_tag.string\n",
    "\n",
    "    # The JSON text is inside a JavaScript assignment, so we need to extract it.\n",
    "    # In your case, the JSON text is being assigned to 'window._REACT_STATE_'.\n",
    "    # Also, the JSON text ends with ';', which should be stripped off.\n",
    "    json_text = json_text.replace('window._REACT_STATE_ = ', '')\n",
    "    if json_text[-1] == \";\":\n",
    "        json_text = json_text[:-1]\n",
    "    \n",
    "    json_data = json.loads(json_text)\n",
    "        \n",
    "    return json_data   \n",
    "\n",
    "def is_valid_nts_url(url):\n",
    "    \"\"\"\n",
    "    Validate if URL is a valid NTS URL\n",
    "    \"\"\"\n",
    "    try:\n",
    "        parsed = urllib.parse.urlparse(url)\n",
    "        # check if the URL is well-formed\n",
    "        if not all([parsed.scheme, parsed.netloc, parsed.path]):\n",
    "            return False\n",
    "        # check if the URL is https and domain is 'www.nts.live'\n",
    "        if parsed.scheme != 'https' or parsed.netloc != 'www.nts.live':\n",
    "            return False\n",
    "        # check if URL path follows the expected structure\n",
    "        if not re.match(r'^/shows/.+/episodes/.+$', parsed.path):\n",
    "            return False\n",
    "        return True\n",
    "    except ValueError:\n",
    "        return False\n",
    "\n",
    "# Check if the program was interrupted previously by checking if the 'last_processed_line.txt' file exists\n",
    "if os.path.exists('../data/last_processed_line.txt'):\n",
    "    with open('data/last_processed_line.txt', 'r') as f:\n",
    "        start_line = int(f.read())\n",
    "else:\n",
    "    start_line = 0\n",
    "\n",
    "with open('../data/links.txt', 'r') as f:\n",
    "    lines = f.readlines()\n",
    "\n",
    "valid_urls = [line.strip() for line in lines if is_valid_nts_url(line.strip())]\n",
    "\n",
    "with open('../data/tracklists_json.txt', 'a') as f:  # use append mode in case of interruption\n",
    "    for i, url in enumerate(tqdm.tqdm(valid_urls[start_line:])):\n",
    "        try:\n",
    "            html = get_html(url)\n",
    "            json_data = get_json(html)\n",
    "            f.write(json.dumps(json_data) + '\\n')  \n",
    "\n",
    "            # Write the last processed line number to a file\n",
    "            with open('../data/last_processed_line.txt', 'w') as lpl:\n",
    "                lpl.write(str(start_line + i))\n",
    "        except Exception as e:\n",
    "            print(f'Error processing URL {url}: {e}')\n",
    "            continue\n"
   ]
  }
 ],
 "metadata": {
  "kernelspec": {
   "display_name": "nts",
   "language": "python",
   "name": "python3"
  },
  "language_info": {
   "codemirror_mode": {
    "name": "ipython",
    "version": 3
   },
   "file_extension": ".py",
   "mimetype": "text/x-python",
   "name": "python",
   "nbconvert_exporter": "python",
   "pygments_lexer": "ipython3",
   "version": "3.11.4"
  },
  "orig_nbformat": 4
 },
 "nbformat": 4,
 "nbformat_minor": 2
}
