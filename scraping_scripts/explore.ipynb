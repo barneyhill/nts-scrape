{
 "cells": [
  {
   "cell_type": "code",
   "execution_count": 1,
   "metadata": {},
   "outputs": [
    {
     "name": "stdout",
     "output_type": "stream",
     "text": [
      "386324\n"
     ]
    }
   ],
   "source": [
    "import json\n",
    "\n",
    "def count_unique_tracks(file_name):\n",
    "    with open(file_name, 'r') as f:\n",
    "        data = json.load(f)\n",
    "\n",
    "    # Flatten tracklist across all shows\n",
    "    all_tracks = []\n",
    "    for show in data.values():\n",
    "        if \"tracklist\" in show:\n",
    "            all_tracks.extend([(track[\"artist\"], track[\"track\"]) for track in show[\"tracklist\"]])\n",
    "\n",
    "    # Convert to a set to get unique tracks (a set does not allow duplicates)\n",
    "    unique_tracks = set(all_tracks)\n",
    "\n",
    "    return len(unique_tracks)\n",
    "\n",
    "print(count_unique_tracks(\"../data/nts_17_7_23_tracklists_with_urls.json\"))"
   ]
  },
  {
   "cell_type": "code",
   "execution_count": 5,
   "metadata": {},
   "outputs": [
    {
     "name": "stdout",
     "output_type": "stream",
     "text": [
      "-0.019332170486450195\n"
     ]
    },
    {
     "data": {
      "text/plain": [
       "['Don Sinini w/ Sines']"
      ]
     },
     "execution_count": 5,
     "metadata": {},
     "output_type": "execute_result"
    }
   ],
   "source": [
    "import json\n",
    "import time\n",
    "\n",
    "def find_artist_track(json_file, artist, track):\n",
    "    titles = []\n",
    "    with open(json_file, 'r') as f:\n",
    "        data = json.load(f)\n",
    "    \n",
    "    for show, info in data.items():\n",
    "        for song in info.get(\"tracklist\", []):\n",
    "            if song.get(\"artist\", \"\") == artist and song.get(\"track\", \"\") == track:\n",
    "                titles.append(info.get(\"pretty-title\", \"\"))\n",
    "                \n",
    "    return titles\n",
    "\n",
    "find_artist_track(\"../data/nts_17_7_23_tracklists_with_urls.json\", \"Thaiboy Digital\", \"I Go I Go\")"
   ]
  }
 ],
 "metadata": {
  "kernelspec": {
   "display_name": "nts",
   "language": "python",
   "name": "python3"
  },
  "language_info": {
   "codemirror_mode": {
    "name": "ipython",
    "version": 3
   },
   "file_extension": ".py",
   "mimetype": "text/x-python",
   "name": "python",
   "nbconvert_exporter": "python",
   "pygments_lexer": "ipython3",
   "version": "3.11.4"
  },
  "orig_nbformat": 4
 },
 "nbformat": 4,
 "nbformat_minor": 2
}
